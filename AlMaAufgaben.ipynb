{
 "cells": [
  {
   "cell_type": "code",
   "execution_count": 3,
   "metadata": {},
   "outputs": [],
   "source": [
    "# some setup\n",
    "import numpy as np # makes numpy routines and data types available as np.[name ouf routine or data type]\n",
    "import matplotlib.pyplot as plt # makes plotting command available as plt.[name of command]\n",
    "from numpy import random\n",
    "\n",
    "random.seed(0)"
   ]
  },
  {
   "cell_type": "code",
   "execution_count": 4,
   "metadata": {},
   "outputs": [],
   "source": [
    "def calcchance(size=30,k=2,samples=10000):\n",
    "    # if you set parameter=value in the declaration, this becomes the default value \n",
    "    # and the parameter can be omitted on call.\n",
    "    # Everything in the block has to be indented the same amount of spaces (this is\n",
    "    # python's way of { } )\n",
    "           \n",
    "    # loop over the number of samples\n",
    "    counter = 0\n",
    "    for i in range(samples):\n",
    "        a = random.randint(0,365,size)\n",
    "        for j in a:\n",
    "            if np.count_nonzero(a==j) >= k:\n",
    "                counter = counter + 1\n",
    "                break\n",
    "    return np.float64(counter/samples)\n",
    " "
   ]
  },
  {
   "cell_type": "code",
   "execution_count": 5,
   "metadata": {},
   "outputs": [
    {
     "name": "stdout",
     "output_type": "stream",
     "text": [
      "0.7023\n"
     ]
    }
   ],
   "source": [
    "print(calcchance())"
   ]
  },
  {
   "cell_type": "code",
   "execution_count": 6,
   "metadata": {},
   "outputs": [],
   "source": [
    "def calcchance2(size=30,k=2,samples=10000):\n",
    "    # if you set parameter=value in the declaration, this becomes the default value \n",
    "    # and the parameter can be omitted on call.\n",
    "    # Everything in the block has to be indented the same amount of spaces (this is\n",
    "    # python's way of { } )\n",
    "           \n",
    "    # loop over the number of samples\n",
    "    counter = 0\n",
    "    x = random.randint(1,366)\n",
    "    for i in range(samples):\n",
    "        # create random birthdays for every person in the group (array of size 'size')\n",
    "        a = random.randint(0,365,size)\n",
    "        for j in a:\n",
    "            if j == x:\n",
    "                counter = counter + 1\n",
    "                break\n",
    "    return counter/samples"
   ]
  },
  {
   "cell_type": "code",
   "execution_count": 7,
   "metadata": {},
   "outputs": [
    {
     "name": "stdout",
     "output_type": "stream",
     "text": [
      "[0.0, 0.03, 0.01, 0.06, 0.14, 0.09, 0.23, 0.33, 0.36, 0.4, 0.48, 0.47, 0.64, 0.72]\n"
     ]
    }
   ],
   "source": [
    "a = np.arange(2,30,2)\n",
    "b = [calcchance(i, 2,100) for i in a]\n",
    "print(b)\n",
    "\n",
    "def h(x, y):\n",
    "    return x*x*2.3"
   ]
  },
  {
   "cell_type": "code",
   "execution_count": 35,
   "metadata": {},
   "outputs": [
    {
     "data": {
      "image/png": "[encoded data removed]",
      "text/plain": [
       "<matplotlib.figure.Figure at 0x2001bc076d8>"
      ]
     },
     "metadata": {},
     "output_type": "display_data"
    },
    {
     "name": "stdout",
     "output_type": "stream",
     "text": [
      "Größer 0.5:  23 ,  0.502 \n",
      "Größer 0.9:  41 ,  0.906 \n",
      "Größer 0.95:  47 ,  0.9584\n"
     ]
    }
   ],
   "source": [
    "x = np.arange(0,60,1)\n",
    "y = np.array([calcchance(i,2,5000) for i in x])\n",
    "s1 = x-x+0.5\n",
    "s3 = x-x+0.9\n",
    "s2 = x-x+0.95\n",
    "# die Plotbefehle sind aehnlich wie in Matlab\n",
    "\n",
    "plt.plot( x, y, '.b')\n",
    "plt.plot( x, s1, '-r')\n",
    "plt.plot( x, s2, '-r')\n",
    "plt.plot( x, s3, '-r')\n",
    "plt.axis([0, 60, 0, 1])\n",
    "plt.show()\n",
    "\n",
    "b5 = True\n",
    "b9 = True\n",
    "b95 = True\n",
    "j5 = 0\n",
    "j9 = 0\n",
    "j95 = 0\n",
    "\n",
    "for i in range(0,60,1):\n",
    "    if (y[i]>= 0.5) and b5:\n",
    "        j5 = i\n",
    "        b5 = False\n",
    "    if (y[i]>= 0.9) and b9:\n",
    "        j9 = i\n",
    "        b9 = False\n",
    "    if (y[i]>= 0.95) and b95:\n",
    "        j95 = i\n",
    "        b95 = False\n",
    "        \n",
    "print(\"Größer 0.5: \",x[j5],\", \",y[j5],\"\\nGrößer 0.9: \",x[j9],\", \",y[j9],\"\\nGrößer 0.95: \",x[j95],\", \",y[j95])"
   ]
  },
  {
   "cell_type": "code",
   "execution_count": null,
   "metadata": {},
   "outputs": [],
   "source": []
  },
  {
   "cell_type": "code",
   "execution_count": null,
   "metadata": {},
   "outputs": [],
   "source": []
  }
 ],
 "metadata": {
  "kernelspec": {
   "display_name": "Python 3",
   "language": "python",
   "name": "python3"
  }
 },
 "nbformat": 4,
 "nbformat_minor": 2
}
